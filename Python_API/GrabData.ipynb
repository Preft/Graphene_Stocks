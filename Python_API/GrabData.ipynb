{
 "cells": [
  {
   "cell_type": "code",
   "execution_count": 1,
   "metadata": {},
   "outputs": [],
   "source": [
    "# imports\n",
    "\n",
    "import requests\n",
    "import time\n",
    "import pandas as pd\n",
    "import ast"
   ]
  },
  {
   "cell_type": "code",
   "execution_count": 2,
   "metadata": {},
   "outputs": [],
   "source": [
    "#Defs\r\n",
    "\r\n",
    "request_counter = 1\r\n",
    "stock_tickers = [\"APGMF\", \"HDGHF\", \"GPHBF\", \"FGPHF\", \"VRSRF\", \"TLGRF\", \"ZENYF\", \"AIXXF\", \"NNXPF\", \"DTPKF\"]\r\n",
    "stock_name = [\"Applied Graphene Material\", \"Haydale Graphene Indus\", \"G6 Materials\", \"First Graphene Limited\", \"Versarien\", \"Talga Group\", \"ZEN Graphene Solutions\", \"Aixtron\", \"NanoXplore\", \"Directa Plus\"]\r\n",
    "#stock_dfs = [\"APGMF_df\", \"HDGHF_df\", \"GPHBF_df\", \"FGPHF_df\", \"VRSRF_df\", \"TLGRF_df\", \"ZENYF_df\", \"AIXXF_df\", \"NNXPF_df\", \"DTPKF_df\"]\r\n",
    "column_names = [\"open\", \"high\", \"low\", \"close\", \"volume\"]\r\n",
    "interval =\"1day\"\r\n",
    "api_key = \"\""
   ]
  },
  {
   "cell_type": "code",
   "execution_count": 3,
   "metadata": {},
   "outputs": [],
   "source": [
    "#Functions\n",
    "\n",
    "def printIfString(var):\n",
    "    try:\n",
    "       return type(ast.literal_eval(var))\n",
    "    except Exception:\n",
    "       return str"
   ]
  },
  {
   "cell_type": "code",
   "execution_count": 4,
   "metadata": {},
   "outputs": [],
   "source": [
    "for num in range(len(stock_tickers)):\n",
    "    #Grab and store data\n",
    "    url = f\"https://api.twelvedata.com/time_series?symbol={stock_tickers[num]}&interval={interval}&outputsize=100&apikey={api_key}\"\n",
    "    data = requests.get(url).json()\n",
    "    df = pd.DataFrame(data['values'])\n",
    "    path = \"..\\Resources\\\\\" + stock_tickers[num] + \".csv\"\n",
    "    \n",
    "    #Check for unexpected data\n",
    "    for col in column_names:\n",
    "        for val in df[col].unique():\n",
    "            printIfString(val)\n",
    "            \n",
    "    #Convert Formats\n",
    "    df['datetime'] = pd.to_datetime(df['datetime'])\n",
    "    df[\"open\"] = df[\"open\"].astype(float)\n",
    "    df[\"high\"] = df[\"high\"].astype(float)\n",
    "    df[\"low\"] = df[\"low\"].astype(float)\n",
    "    df[\"close\"] = df[\"close\"].astype(float)\n",
    "    df[\"volume\"] = df[\"volume\"].astype(float)\n",
    "    df[\"upper\"] = (df[\"high\"] - df[\"open\"]).astype(float).round(4)\n",
    "    df[\"lower\"] = (df[\"open\"] - df[\"low\"]).astype(float).round(4)\n",
    "    df[\"Change\"] = (df[\"open\"] - df[\"close\"]).astype(float).round(4)\n",
    "          \n",
    "    #Write df to CSV\n",
    "    df.to_csv(path, encoding='utf-8')\n",
    "    #exec('{} = df'.format(stock_dfs[num]))\n",
    "    request_counter += 1\n",
    "    \n",
    "    #Time out at 8 requests per min\n",
    "    if(request_counter%8==0):\n",
    "        time.sleep(60)"
   ]
  },
  {
   "cell_type": "code",
   "execution_count": 5,
   "metadata": {},
   "outputs": [],
   "source": [
    "#https://twelvedata.com/docs#stocks"
   ]
  },
  {
   "cell_type": "code",
   "execution_count": null,
   "metadata": {},
   "outputs": [],
   "source": []
  },
  {
   "cell_type": "code",
   "execution_count": null,
   "metadata": {},
   "outputs": [],
   "source": []
  },
  {
   "cell_type": "code",
   "execution_count": null,
   "metadata": {},
   "outputs": [],
   "source": []
  },
  {
   "cell_type": "code",
   "execution_count": null,
   "metadata": {},
   "outputs": [],
   "source": []
  },
  {
   "cell_type": "code",
   "execution_count": null,
   "metadata": {},
   "outputs": [],
   "source": []
  },
  {
   "cell_type": "code",
   "execution_count": null,
   "metadata": {},
   "outputs": [],
   "source": []
  },
  {
   "cell_type": "code",
   "execution_count": null,
   "metadata": {},
   "outputs": [],
   "source": []
  }
 ],
 "metadata": {
  "interpreter": {
   "hash": "28e50df1082da47d1db38258946e4b582d676a48c8db01ad27c7757b94fc5407"
  },
  "kernelspec": {
   "display_name": "Python 3.6.10 64-bit ('PythonData': conda)",
   "name": "python3"
  },
  "language_info": {
   "name": "python",
   "version": ""
  }
 },
 "nbformat": 4,
 "nbformat_minor": 4
}